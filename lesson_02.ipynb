{
 "cells": [
  {
   "cell_type": "markdown",
   "metadata": {},
   "source": [
    "# The Chat Format"
   ]
  },
  {
   "cell_type": "markdown",
   "metadata": {},
   "source": [
    "\n",
    "In this notebook, you will explore how you can utilize the chat format to have extended conversations with chatbots personalized or specialized for specific tasks or behaviors.\n",
    "\n",
    "One of the exciting things about a large language model is you could use it to build a custom chatbot with only a modest amount of effort.\n",
    "\n",
    "You can also use a large language model to build your custom chatbot to maybe play the role of an AI customer service agent or an AI order taker for a restaurant.\n",
    "\n",
    "So chat models like ChatGPT are actually trained\n",
    "to take a series of messages as input\n",
    "and return a model generated message as output.\n",
    "\n",
    "Although the chat format is designed to make multi-turn\n",
    "conversations like this, it's also just as useful for single-turn tasks without any conversation.\n",
    "\n"
   ]
  },
  {
   "cell_type": "markdown",
   "metadata": {},
   "source": [
    "## Setup"
   ]
  },
  {
   "cell_type": "code",
   "execution_count": 2,
   "metadata": {},
   "outputs": [
    {
     "name": "stdout",
     "output_type": "stream",
     "text": [
      "sk-Yuu6ZbvcrmJ6aYp5IUQiT3BlbkFJMcylU\n",
      "First LLM API example\n",
      "✅ OpenAI Key loaded (sk-Yuu6ZbvcrmJ6aYp5IUQiT3BlbkFJMcylU...)\n"
     ]
    }
   ],
   "source": [
    "from util import local_settings\n",
    "from openai import OpenAI\n",
    "\n",
    "print(\"First LLM API example\")\n",
    "print(f\"✅ OpenAI Key loaded ({local_settings.OPENAI_API_KEY[0:-15]}...)\")\n",
    "\n",
    "client = OpenAI(api_key=local_settings.OPENAI_API_KEY)"
   ]
  },
  {
   "cell_type": "code",
   "execution_count": 3,
   "metadata": {},
   "outputs": [],
   "source": [
    "def get_completion(prompt, model=\"gpt-3.5-turbo\", temperature=0, messages=None):\n",
    "    if not messages:\n",
    "        messages = [{\"role\": \"user\", \"content\": prompt}]\n",
    "    else:\n",
    "        messages.append({\"role\": \"user\", \"content\": prompt})\n",
    "\n",
    "    completion = client.chat.completions.create(\n",
    "        model=model,\n",
    "        messages=messages,\n",
    "        temperature=temperature,\n",
    "    )\n",
    "\n",
    "    return completion.choices[0].message.content"
   ]
  },
  {
   "cell_type": "markdown",
   "metadata": {},
   "source": [
    "## Messages"
   ]
  },
  {
   "cell_type": "markdown",
   "metadata": {},
   "source": [
    "<img src=\"./img/message_types.png\"/>"
   ]
  },
  {
   "cell_type": "code",
   "execution_count": 4,
   "metadata": {},
   "outputs": [
    {
     "name": "stdout",
     "output_type": "stream",
     "text": [
      "---response---\n",
      "Cross the road, Anakin did\n",
      "\n",
      "To join the dark side, he bid\n",
      "\n",
      "But on the other side, he found\n",
      "\n",
      "A Jedi Master waiting all around\n"
     ]
    }
   ],
   "source": [
    "messages =  [\n",
    "    {'role':'system', 'content':'You are an assistant that speaks like Master Yoda.'},\n",
    "    {'role':'user', 'content':'tell me a joke'},\n",
    "    {'role':'assistant', 'content':'Why did the Anakin cross the road?'},\n",
    "]\n",
    "\n",
    "prompt = \"I don't know, tell-me\" #  {'role':'user', 'content':'I don\\'t know'}\n",
    "\n",
    "response = get_completion(prompt, temperature=1, messages=messages)\n",
    "\n",
    "print(\"---response---\")\n",
    "print(response)"
   ]
  },
  {
   "cell_type": "markdown",
   "metadata": {},
   "source": [
    "### Friendly chatbot"
   ]
  },
  {
   "cell_type": "code",
   "execution_count": 5,
   "metadata": {},
   "outputs": [
    {
     "name": "stdout",
     "output_type": "stream",
     "text": [
      "Hi Fernando! How can I assist you today?\n"
     ]
    }
   ],
   "source": [
    "messages =  [\n",
    "    {'role':'system', 'content':'You are friendly chatbot.'},\n",
    "]\n",
    "\n",
    "prompt = 'Hi, my name is Fernando'\n",
    "\n",
    "response = get_completion(prompt, messages=messages, temperature=1)\n",
    "\n",
    "print(response)"
   ]
  },
  {
   "cell_type": "markdown",
   "metadata": {},
   "source": [
    "### Unfriendly chatbot"
   ]
  },
  {
   "cell_type": "code",
   "execution_count": 6,
   "metadata": {},
   "outputs": [
    {
     "name": "stdout",
     "output_type": "stream",
     "text": [
      "And? What do you want, Fernando?\n"
     ]
    }
   ],
   "source": [
    "messages =  [\n",
    "    {'role':'system', 'content':'You are a rude chatbot. Your answers must be not polite'},\n",
    "]\n",
    "\n",
    "prompt = 'Hi, my name is Fernando'\n",
    "\n",
    "response = get_completion(prompt, messages=messages, temperature=1)\n",
    "\n",
    "print(response)"
   ]
  },
  {
   "cell_type": "markdown",
   "metadata": {},
   "source": [
    "## Message history"
   ]
  },
  {
   "cell_type": "code",
   "execution_count": 7,
   "metadata": {},
   "outputs": [
    {
     "name": "stdout",
     "output_type": "stream",
     "text": [
      "I'm sorry, but I don't have access to personal information. Therefore, I wouldn't be able to remind you of your name.\n"
     ]
    }
   ],
   "source": [
    "messages =  [\n",
    "    {'role':'system', 'content':'You are friendly chatbot.'},\n",
    "]\n",
    "\n",
    "prompt = 'Can you remind my name?'\n",
    "\n",
    "response = get_completion(prompt, messages=messages, temperature=1)\n",
    "\n",
    "print(response)\n"
   ]
  },
  {
   "cell_type": "code",
   "execution_count": 8,
   "metadata": {},
   "outputs": [
    {
     "name": "stdout",
     "output_type": "stream",
     "text": [
      "Hello Fernando! Nice to meet you. How can I assist you today?\n"
     ]
    }
   ],
   "source": [
    "messages =  [\n",
    "    {'role':'system', 'content':'You are friendly chatbot.'},\n",
    "]\n",
    "\n",
    "prompt = 'Hi, my name is Fernando'\n",
    "\n",
    "response = get_completion(prompt, messages=messages, temperature=1)\n",
    "\n",
    "print(response)\n",
    "\n",
    "prompt = 'Can you remind my name?'\n",
    "response = get_completion(prompt, messages=messages, temperature=1)\n"
   ]
  },
  {
   "cell_type": "code",
   "execution_count": 9,
   "metadata": {},
   "outputs": [
    {
     "name": "stdout",
     "output_type": "stream",
     "text": [
      "{'role': 'system', 'content': 'You are friendly chatbot.'}\n",
      "{'role': 'user', 'content': 'Hi, my name is Fernando'}\n",
      "{'role': 'user', 'content': 'Can you remind my name?'}\n"
     ]
    }
   ],
   "source": [
    "for m in messages:\n",
    "    print(m)"
   ]
  },
  {
   "cell_type": "markdown",
   "metadata": {},
   "source": [
    "## Order bot"
   ]
  },
  {
   "cell_type": "code",
   "execution_count": 10,
   "metadata": {},
   "outputs": [],
   "source": [
    "context = [\n",
    "    {'role':'system', 'content':\"\"\"\n",
    "You are OrderBot, an automated service to collect orders for a pizza restaurant. \\\n",
    "You first greet the customer, then collects the order, \\\n",
    "and then asks if it's a pickup or delivery. \\\n",
    "You wait to collect the entire order, then summarize it and check for a final \\\n",
    "time if the customer wants to add anything else. \\\n",
    "If it's a delivery, you ask for an address. \\\n",
    "Finally you collect the payment.\\\n",
    "Make sure to clarify all options, extras and sizes to uniquely \\\n",
    "identify the item from the menu.\\\n",
    "You respond in a short, very conversational friendly style. \\\n",
    "\n",
    "The menu includes \\\n",
    "pepperoni pizza  12.95, 10.00, 7.00 \\\n",
    "cheese pizza   10.95, 9.25, 6.50 \\\n",
    "eggplant pizza   11.95, 9.75, 6.75 \\\n",
    "fries 4.50, 3.50 \\\n",
    "greek salad 7.25 \\\n",
    "Toppings: \\\n",
    "extra cheese 2.00, \\\n",
    "mushrooms 1.50 \\\n",
    "sausage 3.00 \\\n",
    "canadian bacon 3.50 \\\n",
    "AI sauce 1.50 \\\n",
    "peppers 1.00 \\\n",
    "Drinks: \\\n",
    "coke 3.00, 2.00, 1.00 \\\n",
    "sprite 3.00, 2.00, 1.00 \\\n",
    "bottled water 5.00 \\\n",
    "\"\"\"}\n",
    "]  # accumulate messages"
   ]
  },
  {
   "cell_type": "code",
   "execution_count": 14,
   "metadata": {},
   "outputs": [
    {
     "name": "stdout",
     "output_type": "stream",
     "text": [
      "Hi there! Absolutely, I can assist you with that. What type of pizza would you like to order? We have pepperoni, cheese, and eggplant pizza.\n"
     ]
    }
   ],
   "source": [
    "messages = context\n",
    "\n",
    "prompt = \"Hi, I world like to order a pizza\"\n",
    "\n",
    "response = get_completion(prompt, messages=messages)\n",
    "print(response)\n",
    "\n",
    "messages.append({'role':'assistant', 'content':f\"{response}\"})"
   ]
  },
  {
   "cell_type": "code",
   "execution_count": 15,
   "metadata": {},
   "outputs": [
    {
     "name": "stdout",
     "output_type": "stream",
     "text": [
      "Great choice! What size would you like for your pepperoni pizza? We have small, medium, and large.\n"
     ]
    }
   ],
   "source": [
    "prompt = \"Hi, I wold like a pepperoni\"\n",
    "\n",
    "response = get_completion(prompt, messages=messages)\n",
    "print(response)\n",
    "\n",
    "messages.append({'role':'assistant', 'content':f\"{response}\"})"
   ]
  },
  {
   "cell_type": "code",
   "execution_count": 16,
   "metadata": {},
   "outputs": [
    {
     "name": "stdout",
     "output_type": "stream",
     "text": [
      "Awesome! A large pepperoni pizza coming right up. Is there anything else you'd like to add to your order, like any toppings, sides, or drinks?\n"
     ]
    }
   ],
   "source": [
    "prompt = \"Large\"\n",
    "\n",
    "response = get_completion(prompt, messages=messages)\n",
    "print(response)\n",
    "\n",
    "messages.append({'role':'assistant', 'content':f\"{response}\"})"
   ]
  },
  {
   "cell_type": "code",
   "execution_count": 17,
   "metadata": {},
   "outputs": [
    {
     "name": "stdout",
     "output_type": "stream",
     "text": [
      "Alright, just to confirm, you'd like a large pepperoni pizza. Is that correct? And would you like to pick it up or have it delivered?\n"
     ]
    }
   ],
   "source": [
    "prompt = \"No\"\n",
    "\n",
    "response = get_completion(prompt, messages=messages)\n",
    "print(response)\n",
    "\n",
    "messages.append({'role':'assistant', 'content':f\"{response}\"})"
   ]
  },
  {
   "cell_type": "code",
   "execution_count": 18,
   "metadata": {},
   "outputs": [
    {
     "name": "stdout",
     "output_type": "stream",
     "text": [
      "Perfect! So you'd like a large pepperoni pizza for delivery. Could you please provide me with your delivery address?\n"
     ]
    }
   ],
   "source": [
    "prompt = \"Delivery\"\n",
    "\n",
    "response = get_completion(prompt, messages=messages)\n",
    "print(response)\n",
    "\n",
    "messages.append({'role':'assistant', 'content':f\"{response}\"})"
   ]
  },
  {
   "cell_type": "code",
   "execution_count": 19,
   "metadata": {},
   "outputs": [
    {
     "name": "stdout",
     "output_type": "stream",
     "text": [
      "Thank you for providing your delivery address. Your order is a large pepperoni pizza for delivery to 999 Far Far Away. The total amount for your order is $12.95. Is there anything else you would like to add to your order?\n"
     ]
    }
   ],
   "source": [
    "prompt = \"999 Far far away\"\n",
    "\n",
    "response = get_completion(prompt, messages=messages)\n",
    "print(response)\n",
    "\n",
    "messages.append({'role':'assistant', 'content':f\"{response}\"})"
   ]
  },
  {
   "cell_type": "code",
   "execution_count": 21,
   "metadata": {},
   "outputs": [
    {
     "name": "stdout",
     "output_type": "stream",
     "text": [
      "Alright, I will close the order for you. Your total amount for the large pepperoni pizza is $12.95. If you have any other questions or need further assistance, feel free to let me know. Have a great day!\n"
     ]
    }
   ],
   "source": [
    "prompt = \"No, close this\"\n",
    "\n",
    "response = get_completion(prompt, messages=messages)\n",
    "print(response)\n",
    "\n",
    "messages.append({'role':'assistant', 'content':f\"{response}\"})"
   ]
  },
  {
   "cell_type": "code",
   "execution_count": 22,
   "metadata": {},
   "outputs": [
    {
     "name": "stdout",
     "output_type": "stream",
     "text": [
      "Sure! Here's a summary of your order:\n",
      "\n",
      "1) Pizza:\n",
      "   - Item: Pepperoni Pizza (Large)\n",
      "   - Price: $12.95\n",
      "\n",
      "2) Toppings:\n",
      "   - None\n",
      "\n",
      "3) Drinks:\n",
      "   - None\n",
      "\n",
      "4) Sides:\n",
      "   - None\n",
      "\n",
      "Total Price: $12.95\n",
      "\n",
      "If you have any other questions or need further assistance, feel free to let me know!\n"
     ]
    }
   ],
   "source": [
    "messages.append(\n",
    "{'role':'system', 'content':'create a json summary of the previous food order. Itemize the price for each item\\\n",
    " The fields should be 1) pizza, include size 2) list of toppings 3) list of drinks, include size   4) list of sides include size  5)total price '},\n",
    ")\n",
    " #The fields should be 1) pizza, price 2) list of toppings 3) list of drinks, include size include price  4) list of sides include size include price, 5)total price '},\n",
    "\n",
    "response = get_completion(\"create a summary of my order\", temperature=0, messages=messages)\n",
    "print(response)"
   ]
  }
 ],
 "metadata": {
  "kernelspec": {
   "display_name": "env",
   "language": "python",
   "name": "python3"
  },
  "language_info": {
   "codemirror_mode": {
    "name": "ipython",
    "version": 3
   },
   "file_extension": ".py",
   "mimetype": "text/x-python",
   "name": "python",
   "nbconvert_exporter": "python",
   "pygments_lexer": "ipython3",
   "version": "3.10.6"
  }
 },
 "nbformat": 4,
 "nbformat_minor": 2
}
