{
 "cells": [
  {
   "cell_type": "markdown",
   "metadata": {},
   "source": [
    "# Summarizing\n"
   ]
  },
  {
   "cell_type": "markdown",
   "metadata": {},
   "source": [
    "In our busy world, there's a lot of text to read, but we often don't have enough time to read everything we want to. One really cool way to use large language models is to have them summarize text for us. This means they can take a big piece of writing and make it shorter while keeping the important parts. It's like having a helpful tool that gives you the main ideas without reading the whole thing."
   ]
  },
  {
   "cell_type": "markdown",
   "metadata": {},
   "source": [
    "## ⚙️ Setup"
   ]
  },
  {
   "cell_type": "code",
   "execution_count": 1,
   "metadata": {},
   "outputs": [
    {
     "name": "stdout",
     "output_type": "stream",
     "text": [
      "sk-Yuu6ZbvcrmJ6aYp5IUQiT3BlbkFJMcylU\n",
      "First LLM API example\n",
      "✅ OpenAI Key loaded (sk-Yuu6ZbvcrmJ6aYp5IUQiT3BlbkFJMcylU...)\n"
     ]
    }
   ],
   "source": [
    "from util import local_settings\n",
    "from env_colors import TerminalTextColor as ttc\n",
    "from openai import OpenAI\n",
    "\n",
    "print(\"First LLM API example\")\n",
    "print(f\"✅ OpenAI Key loaded ({local_settings.OPENAI_API_KEY[0:-15]}...)\")\n",
    "\n",
    "client = OpenAI(api_key=local_settings.OPENAI_API_KEY)\n",
    "\n",
    "def get_completion(prompt, model=\"gpt-3.5-turbo\", temperature=0, messages=None):\n",
    "    if not messages:\n",
    "        messages = [{\"role\": \"user\", \"content\": prompt}]\n",
    "\n",
    "    completion = client.chat.completions.create(\n",
    "        model=model,\n",
    "        messages=messages,\n",
    "        temperature=temperature,\n",
    "    )\n",
    "\n",
    "    return completion.choices[0].message.content"
   ]
  },
  {
   "cell_type": "markdown",
   "metadata": {},
   "source": [
    "## Text to be summarized"
   ]
  },
  {
   "cell_type": "code",
   "execution_count": 2,
   "metadata": {},
   "outputs": [],
   "source": [
    "prod_review = \"\"\"\n",
    "Got this panda plush toy for my daughter's birthday, \\\n",
    "who loves it and takes it everywhere. It's soft and \\\n",
    "super cute, and its face has a friendly look. It's \\\n",
    "a bit small for what I paid though. I think there \\\n",
    "might be other options that are bigger for the \\\n",
    "same price. It arrived a day earlier than expected, \\\n",
    "so I got to play with it myself before I gave it \\\n",
    "to her.\n",
    "\"\"\""
   ]
  },
  {
   "cell_type": "markdown",
   "metadata": {},
   "source": [
    "### <font color=\"cyan\">Summarize with a word/sentence/character limit</font>"
   ]
  },
  {
   "cell_type": "code",
   "execution_count": 3,
   "metadata": {},
   "outputs": [
    {
     "name": "stdout",
     "output_type": "stream",
     "text": [
      "This panda plush toy is loved by the reviewer's daughter and has a friendly look. However, it is smaller than expected and there may be better options for the price.\n"
     ]
    }
   ],
   "source": [
    "prompt = f\"\"\"\n",
    "Your task is to generate a short summary of a product \\\n",
    "review from an e-commerce site.\n",
    "\n",
    "Summarize the review below, delimited by triple\n",
    "backticks, in at most 30 words.\n",
    "\n",
    "Review: ```{prod_review}```\n",
    "\"\"\"\n",
    "\n",
    "response = get_completion(prompt)\n",
    "print(response)"
   ]
  },
  {
   "cell_type": "markdown",
   "metadata": {},
   "source": [
    "### <font color=\"cyan\">Summarize with a focus on shipping and delivery</font>\n",
    "\n",
    "For example, if you want to give feedback to the shipping department, you can also modify the prompt to reflect that, so that they can generate a summary that is more applicable to one particular group in your business.\n",
    "\n",
    "\n",
    "```\n",
    "🎯 (...) focusing on any aspects that mention shipping and delivery of the product.\n",
    "```"
   ]
  },
  {
   "cell_type": "code",
   "execution_count": 4,
   "metadata": {},
   "outputs": [
    {
     "name": "stdout",
     "output_type": "stream",
     "text": [
      "The customer is happy with the product but mentions that it is smaller than expected. They also mention that the shipping was faster than expected.\n"
     ]
    }
   ],
   "source": [
    "prompt = f\"\"\"\n",
    "Your task is to generate a short summary of a product review from an e-commerce site to give feedback to the Shipping department.\n",
    "\n",
    "Summarize the review below, delimited by triple backticks, in at most 30 words, and focusing on any aspects that mention shipping and delivery of the product.\n",
    "\n",
    "Review: ```{prod_review}```\n",
    "\"\"\"\n",
    "\n",
    "response = get_completion(prompt)\n",
    "print(response)"
   ]
  },
  {
   "cell_type": "markdown",
   "metadata": {},
   "source": [
    "🚚 **Comment**: <font color=\"orange\">\n",
    " Summaries include topics that are not related to the topic of focus.\n",
    "</font>"
   ]
  },
  {
   "cell_type": "markdown",
   "metadata": {},
   "source": [
    "### <font color=\"cyan\">Try `\"extract\"` instead of `\"summarize\"`</font>"
   ]
  },
  {
   "cell_type": "code",
   "execution_count": 5,
   "metadata": {},
   "outputs": [
    {
     "name": "stdout",
     "output_type": "stream",
     "text": [
      "The relevant information about shipping and delivery from the review is: \"It arrived a day earlier than expected.\"\n"
     ]
    }
   ],
   "source": [
    "prompt = f\"\"\"\n",
    "Your task is to extract relevant information from\n",
    "a product review from an e-commerce site to give\n",
    "feedback to the Shipping department.\n",
    "\n",
    "From the review below, delimited by triple quotes\n",
    "extract the information relevant to shipping and\n",
    "delivery.\n",
    "\n",
    "Limit to 30 words.\n",
    "\n",
    "Review: ```{prod_review}```\n",
    "\"\"\"\n",
    "\n",
    "response = get_completion(prompt)\n",
    "print(response)"
   ]
  },
  {
   "cell_type": "markdown",
   "metadata": {},
   "source": [
    "### <font color=\"cyan\">Summarize multiple product reviews</font>"
   ]
  },
  {
   "cell_type": "markdown",
   "metadata": {},
   "source": [
    "#### Reviews (list)\n",
    "\n",
    "```python\n",
    "# (...)\n",
    "reviews = [review_1, review_2, review_3, review_4]\n",
    "```\n"
   ]
  },
  {
   "cell_type": "code",
   "execution_count": 6,
   "metadata": {},
   "outputs": [],
   "source": [
    "review_1 = prod_review\n",
    "\n",
    "# review for a standing lamp\n",
    "review_2 = \"\"\"\n",
    "Needed a nice lamp for my bedroom, and this one\n",
    "had additional storage and not too high of a price\n",
    "point. Got it fast - arrived in 2 days. The string\n",
    "to the lamp broke during the transit and the company\n",
    "happily sent over a new one. Came within a few days\n",
    "as well. It was easy to put together. Then I had a\n",
    "missing part, so I contacted their support and they\n",
    "very quickly got me the missing piece! Seems to me\n",
    "to be a great company that cares about their customers\n",
    "and products.\n",
    "\"\"\"\n",
    "\n",
    "# review for an electric toothbrush\n",
    "review_3 = \"\"\"\n",
    "My dental hygienist recommended an electric toothbrush,\n",
    "which is why I got this. The battery life seems to be\n",
    "pretty impressive so far. After initial charging and\n",
    "leaving the charger plugged in for the first week to\n",
    "condition the battery, I've unplugged the charger and\n",
    "been using it for twice daily brushing for the last\n",
    "3 weeks all on the same charge. But the toothbrush head\n",
    "is too small. I’ve seen baby toothbrushes bigger than\n",
    "this one. I wish the head was bigger with different\n",
    "length bristles to get between teeth better because\n",
    "this one doesn’t.  Overall if you can get this one\n",
    "around the $50 mark, it's a good deal. The manufactuer's\n",
    "replacements heads are pretty expensive, but you can\n",
    "get generic ones that're more reasonably priced. This\n",
    "toothbrush makes me feel like I've been to the dentist\n",
    "every day. My teeth feel sparkly clean!\n",
    "\"\"\"\n",
    "\n",
    "# review for a blender\n",
    "review_4 = \"\"\"\n",
    "So, they still had the 17 piece system on seasonal\n",
    "sale for around $49 in the month of November, about\n",
    "half off, but for some reason (call it price gouging)\n",
    "around the second week of December the prices all went\n",
    "up to about anywhere from between $70-$89 for the same\n",
    "system. And the 11 piece system went up around $10 or\n",
    "so in price also from the earlier sale price of $29.\n",
    "So it looks okay, but if you look at the base, the part\n",
    "where the blade locks into place doesn’t look as good\n",
    "as in previous editions from a few years ago, but I\n",
    "plan to be very gentle with it (example, I crush\n",
    "very hard items like beans, ice, rice, etc. in the\n",
    "blender first then pulverize them in the serving size\n",
    "I want in the blender then switch to the whipping\n",
    "blade for a finer flour, and use the cross cutting blade\n",
    "first when making smoothies, then use the flat blade\n",
    "if I need them finer/less pulpy). Special tip when making\n",
    "smoothies, finely cut and freeze the fruits and\n",
    "vegetables (if using spinach-lightly stew soften the\n",
    "spinach then freeze until ready for use-and if making\n",
    "sorbet, use a small to medium sized food processor)\n",
    "that you plan to use that way you can avoid adding so\n",
    "much ice if at all-when making your smoothie.\n",
    "After about a year, the motor was making a funny noise.\n",
    "I called customer service but the warranty expired\n",
    "already, so I had to buy another one. FYI: The overall\n",
    "quality has gone done in these types of products, so\n",
    "they are kind of counting on brand recognition and\n",
    "consumer loyalty to maintain sales. Got it in about\n",
    "two days.\n",
    "\"\"\"\n",
    "\n",
    "reviews = [review_1, review_2, review_3, review_4]"
   ]
  },
  {
   "cell_type": "markdown",
   "metadata": {},
   "source": [
    "#### <font color=\"cyan\">Reviews</font>"
   ]
  },
  {
   "cell_type": "code",
   "execution_count": 9,
   "metadata": {},
   "outputs": [
    {
     "name": "stdout",
     "output_type": "stream",
     "text": [
      "🤓 Review 0 - Soft and cute panda plush toy loved by daughter, but small for the price. Arrived early. \n",
      "\n",
      "🤓 Review 1 - Great lamp with storage, fast delivery, excellent customer service, and easy assembly. Highly recommended. \n",
      "\n",
      "🤓 Review 2 - Impressive battery life, but toothbrush head is too small. Good deal if bought around $50. \n",
      "\n",
      "🤓 Review 3 - The reviewer found the price increase after the sale disappointing and noticed a decrease in quality over time. \n",
      "\n"
     ]
    }
   ],
   "source": [
    "for i in range(len(reviews)):\n",
    "    prompt = f\"\"\"\n",
    "    Your task is to generate a short summary of a product\n",
    "    review from an e-commerce site.\n",
    "\n",
    "    Summarize the review below, delimited by triple\n",
    "    backticks in at most 20 words.\n",
    "\n",
    "    Review: ```{reviews[i]}```\n",
    "    \"\"\"\n",
    "\n",
    "    response = get_completion(prompt)\n",
    "    print(f\"🤓 Review {i} - {response} \\n\")"
   ]
  },
  {
   "cell_type": "code",
   "execution_count": 12,
   "metadata": {},
   "outputs": [
    {
     "name": "stdout",
     "output_type": "stream",
     "text": [
      "🤓 Review 0 - {\n",
      "  \"review\": \"Got this panda plush toy for my daughter's birthday, who loves it and takes it everywhere. It's soft and super cute, and its face has a friendly look. It's a bit small for what I paid though. I think there might be other options that are bigger for the same price. It arrived a day earlier than expected, so I got to play with it myself before I gave it to her.\",\n",
      "  \"summary\": \"Soft and cute panda plush toy, but a bit small for the price. Arrived early.\" \n",
      "} \n",
      "\n",
      "🤓 Review 1 - {\n",
      "    \"review\": \"Needed a nice lamp for my bedroom, and this one had additional storage and not too high of a price point. Got it fast - arrived in 2 days. The string to the lamp broke during the transit and the company happily sent over a new one. Came within a few days as well. It was easy to put together. Then I had a missing part, so I contacted their support and they very quickly got me the missing piece! Seems to me to be a great company that cares about their customers and products.\",\n",
      "    \"summary\": \"Great lamp with additional storage, fast delivery, excellent customer support. Highly recommended.\" \n",
      "} \n",
      "\n",
      "🤓 Review 2 - {\n",
      "  \"review\": \"My dental hygienist recommended an electric toothbrush, which is why I got this. The battery life seems to be pretty impressive so far. After initial charging and leaving the charger plugged in for the first week to condition the battery, I've unplugged the charger and been using it for twice daily brushing for the last 3 weeks all on the same charge. But the toothbrush head is too small. I’ve seen baby toothbrushes bigger than this one. I wish the head was bigger with different length bristles to get between teeth better because this one doesn’t.  Overall if you can get this one around the $50 mark, it's a good deal. The manufactuer's replacements heads are pretty expensive, but you can get generic ones that're more reasonably priced. This toothbrush makes me feel like I've been to the dentist every day. My teeth feel sparkly clean!\",\n",
      "  \"summary\": \"Impressive battery life, but toothbrush head is too small. Good deal if around $50.\"\n",
      "} \n",
      "\n",
      "🤓 Review 3 - {\n",
      "    \"review\": \"So, they still had the 17 piece system on seasonal sale for around $49 in the month of November, about half off, but for some reason (call it price gouging) around the second week of December the prices all went up to about anywhere from between $70-$89 for the same system. And the 11 piece system went up around $10 or so in price also from the earlier sale price of $29. So it looks okay, but if you look at the base, the part where the blade locks into place doesn’t look as good as in previous editions from a few years ago, but I plan to be very gentle with it (example, I crush very hard items like beans, ice, rice, etc. in the blender first then pulverize them in the serving size I want in the blender then switch to the whipping blade for a finer flour, and use the cross cutting blade first when making smoothies, then use the flat blade if I need them finer/less pulpy). Special tip when making smoothies, finely cut and freeze the fruits and vegetables (if using spinach-lightly stew soften the spinach then freeze until ready for use-and if making sorbet, use a small to medium sized food processor) that you plan to use that way you can avoid adding so much ice if at all-when making your smoothie. After about a year, the motor was making a funny noise. I called customer service but the warranty expired already, so I had to buy another one. FYI: The overall quality has gone done in these types of products, so they are kind of counting on brand recognition and consumer loyalty to maintain sales. Got it in about two days.\",\n",
      "    \"summary\": \"Mixed feelings about the product due to price increase, lower quality, and motor issues after a year.\"\n",
      "} \n",
      "\n"
     ]
    }
   ],
   "source": [
    "import json\n",
    "json_list = []\n",
    "\n",
    "for i in range(len(reviews)):\n",
    "    prompt = f\"\"\"\n",
    "    Your task is to generate a short summary of a product\n",
    "    review from an e-commerce site.\n",
    "\n",
    "    Summarize the review below, delimited by triple\n",
    "    backticks in at most 20 words.\n",
    "\n",
    "    Review: ```{reviews[i]}```\n",
    "\n",
    "    Output format:\n",
    "\n",
    "    a json object with keys review and summary\n",
    "    \"\"\"\n",
    "\n",
    "    response = get_completion(prompt)\n",
    "    print(f\"🤓 Review {i} - {response} \\n\")\n",
    "    json_list.append(json.loads(response))"
   ]
  },
  {
   "cell_type": "code",
   "execution_count": 13,
   "metadata": {},
   "outputs": [
    {
     "data": {
      "text/plain": [
       "[{'review': \"Got this panda plush toy for my daughter's birthday, who loves it and takes it everywhere. It's soft and super cute, and its face has a friendly look. It's a bit small for what I paid though. I think there might be other options that are bigger for the same price. It arrived a day earlier than expected, so I got to play with it myself before I gave it to her.\",\n",
       "  'summary': 'Soft and cute panda plush toy, but a bit small for the price. Arrived early.'},\n",
       " {'review': 'Needed a nice lamp for my bedroom, and this one had additional storage and not too high of a price point. Got it fast - arrived in 2 days. The string to the lamp broke during the transit and the company happily sent over a new one. Came within a few days as well. It was easy to put together. Then I had a missing part, so I contacted their support and they very quickly got me the missing piece! Seems to me to be a great company that cares about their customers and products.',\n",
       "  'summary': 'Great lamp with additional storage, fast delivery, excellent customer support. Highly recommended.'},\n",
       " {'review': \"My dental hygienist recommended an electric toothbrush, which is why I got this. The battery life seems to be pretty impressive so far. After initial charging and leaving the charger plugged in for the first week to condition the battery, I've unplugged the charger and been using it for twice daily brushing for the last 3 weeks all on the same charge. But the toothbrush head is too small. I’ve seen baby toothbrushes bigger than this one. I wish the head was bigger with different length bristles to get between teeth better because this one doesn’t.  Overall if you can get this one around the $50 mark, it's a good deal. The manufactuer's replacements heads are pretty expensive, but you can get generic ones that're more reasonably priced. This toothbrush makes me feel like I've been to the dentist every day. My teeth feel sparkly clean!\",\n",
       "  'summary': 'Impressive battery life, but toothbrush head is too small. Good deal if around $50.'},\n",
       " {'review': 'So, they still had the 17 piece system on seasonal sale for around $49 in the month of November, about half off, but for some reason (call it price gouging) around the second week of December the prices all went up to about anywhere from between $70-$89 for the same system. And the 11 piece system went up around $10 or so in price also from the earlier sale price of $29. So it looks okay, but if you look at the base, the part where the blade locks into place doesn’t look as good as in previous editions from a few years ago, but I plan to be very gentle with it (example, I crush very hard items like beans, ice, rice, etc. in the blender first then pulverize them in the serving size I want in the blender then switch to the whipping blade for a finer flour, and use the cross cutting blade first when making smoothies, then use the flat blade if I need them finer/less pulpy). Special tip when making smoothies, finely cut and freeze the fruits and vegetables (if using spinach-lightly stew soften the spinach then freeze until ready for use-and if making sorbet, use a small to medium sized food processor) that you plan to use that way you can avoid adding so much ice if at all-when making your smoothie. After about a year, the motor was making a funny noise. I called customer service but the warranty expired already, so I had to buy another one. FYI: The overall quality has gone done in these types of products, so they are kind of counting on brand recognition and consumer loyalty to maintain sales. Got it in about two days.',\n",
       "  'summary': 'Mixed feelings about the product due to price increase, lower quality, and motor issues after a year.'}]"
      ]
     },
     "execution_count": 13,
     "metadata": {},
     "output_type": "execute_result"
    }
   ],
   "source": [
    "json_list"
   ]
  }
 ],
 "metadata": {
  "kernelspec": {
   "display_name": "env",
   "language": "python",
   "name": "python3"
  },
  "language_info": {
   "codemirror_mode": {
    "name": "ipython",
    "version": 3
   },
   "file_extension": ".py",
   "mimetype": "text/x-python",
   "name": "python",
   "nbconvert_exporter": "python",
   "pygments_lexer": "ipython3",
   "version": "3.10.6"
  }
 },
 "nbformat": 4,
 "nbformat_minor": 2
}
