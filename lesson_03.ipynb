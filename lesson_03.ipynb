{
 "cells": [
  {
   "cell_type": "markdown",
   "metadata": {},
   "source": [
    "# 1. Write clear and specific\n"
   ]
  },
  {
   "cell_type": "markdown",
   "metadata": {},
   "source": [
    "## Setup"
   ]
  },
  {
   "cell_type": "code",
   "execution_count": 1,
   "metadata": {},
   "outputs": [
    {
     "name": "stdout",
     "output_type": "stream",
     "text": [
      "sk-Yuu6ZbvcrmJ6aYp5IUQiT3BlbkFJMcylU\n",
      "First LLM API example\n",
      "✅ OpenAI Key loaded (sk-Yuu6ZbvcrmJ6aYp5IUQiT3BlbkFJMcylU...)\n"
     ]
    }
   ],
   "source": [
    "from util import local_settings\n",
    "from env_colors import TerminalTextColor as ttc\n",
    "from openai import OpenAI\n",
    "\n",
    "print(\"First LLM API example\")\n",
    "print(f\"✅ OpenAI Key loaded ({local_settings.OPENAI_API_KEY[0:-15]}...)\")\n",
    "\n",
    "client = OpenAI(api_key=local_settings.OPENAI_API_KEY)\n",
    "\n",
    "def get_completion(prompt, model=\"gpt-3.5-turbo\", temperature=0, messages=None):\n",
    "    if not messages:\n",
    "        messages = [{\"role\": \"user\", \"content\": prompt}]\n",
    "\n",
    "    completion = client.chat.completions.create(\n",
    "        model=model,\n",
    "        messages=messages,\n",
    "        temperature=temperature,\n",
    "    )\n",
    "\n",
    "    return completion.choices[0].message.content"
   ]
  },
  {
   "cell_type": "markdown",
   "metadata": {},
   "source": [
    "### Test if it is work properly."
   ]
  },
  {
   "cell_type": "code",
   "execution_count": 2,
   "metadata": {},
   "outputs": [
    {
     "name": "stdout",
     "output_type": "stream",
     "text": [
      "Barack Obama is an American politician who served as the 44th President of the United States from 2009 to 2017. He was born on August 4, 1961, in Honolulu, Hawaii. Before becoming president, Obama served as a U.S. Senator from Illinois from 2005 to 2008. He is a member of the Democratic Party and is known for his efforts to reform healthcare, improve relations with other countries, and address issues such as climate change and income inequality. Obama is the first African American to have served as president of the United States.\n"
     ]
    }
   ],
   "source": [
    "prompt = \"Who is Obama\"\n",
    "\n",
    "response = get_completion(prompt)\n",
    "\n",
    "print(response)"
   ]
  },
  {
   "cell_type": "markdown",
   "metadata": {},
   "source": [
    "## Tactics"
   ]
  },
  {
   "cell_type": "markdown",
   "metadata": {},
   "source": [
    "\n",
    "### 1.1 Tactic 1\n",
    "\n",
    "#### Use delimiters to clearly indicate distinct parts of the input\n",
    "\n",
    "- Delimiters can be anything like: ```, \"\"\", < >, `<tag> </tag>`"
   ]
  },
  {
   "cell_type": "code",
   "execution_count": 3,
   "metadata": {},
   "outputs": [
    {
     "name": "stdout",
     "output_type": "stream",
     "text": [
      "\u001b[92m---- prompt ----\u001b[0m\n",
      "\n",
      "Summarize the text delimited by triple backticks\n",
      "into a single sentence.\n",
      "\n",
      "```\n",
      "It is crucial to emphasize the significance of a meticulously crafted prompt. Articulate your instructions with utmost clarity and specificity to effectively steer the model toward the desired outcome, minimizing the likelihood of irrelevant or inaccurate responses. It's important to note that clarity in prompts does not necessarily equate to brevity; often, longer prompts offer a richer context that aids the model in generating more detailed and pertinent outputs.\n",
      "```\n",
      "\n",
      "\u001b[92m---- response ----\u001b[0m\n",
      "The text emphasizes the importance of clear and specific prompts to guide the model towards the desired outcome, noting that longer prompts can provide a richer context for generating more detailed and relevant responses.\n"
     ]
    }
   ],
   "source": [
    "text = f\"\"\"\n",
    "It is crucial to emphasize the significance of a meticulously crafted prompt. Articulate your instructions with utmost clarity and specificity to effectively steer the model toward the desired outcome, minimizing the likelihood of irrelevant or inaccurate responses. It's important to note that clarity in prompts does not necessarily equate to brevity; often, longer prompts offer a richer context that aids the model in generating more detailed and pertinent outputs.\n",
    "\"\"\"\n",
    "\n",
    "prompt = f\"\"\"\n",
    "Summarize the text delimited by triple backticks\n",
    "into a single sentence.\n",
    "\n",
    "```{text}```\n",
    "\"\"\"\n",
    "\n",
    "response = get_completion(prompt)\n",
    "\n",
    "print(f\"{ttc.GREEN}---- prompt ----{ttc.RESET}\")\n",
    "print(prompt)\n",
    "\n",
    "print(f\"{ttc.GREEN}---- response ----{ttc.RESET}\")\n",
    "print(response)"
   ]
  },
  {
   "cell_type": "markdown",
   "metadata": {},
   "source": [
    "<font color=\"cyan\">So, a the prompt summarizes the text delimited by triple backticks ``` into a single sentence. As you can see, we've received a sentence output and we've used these delimiters to make it very clear to the model, kind of, the exact text it should summarize.</font>"
   ]
  },
  {
   "cell_type": "markdown",
   "metadata": {},
   "source": [
    "### 1.2 Tactic 2\n",
    "\n",
    "#### Structured output"
   ]
  },
  {
   "cell_type": "markdown",
   "metadata": {},
   "source": [
    "Specifies the desired response output within the instructions."
   ]
  },
  {
   "cell_type": "code",
   "execution_count": 4,
   "metadata": {},
   "outputs": [
    {
     "name": "stdout",
     "output_type": "stream",
     "text": [
      "\u001b[92m---- prompt ----\u001b[0m\n",
      "\n",
      "Generate a list of four Netflix series titles by considering their authors and genres.\n",
      "Provide them in a file JSON format with the following keys:\n",
      "serie_id, title, author, genre.\n",
      "\n",
      "\u001b[92m---- response ----\u001b[0m\n",
      "[\n",
      "  {\n",
      "    \"serie_id\": 1,\n",
      "    \"title\": \"Stranger Things\",\n",
      "    \"author\": \"The Duffer Brothers\",\n",
      "    \"genre\": \"Science Fiction, Horror\"\n",
      "  },\n",
      "  {\n",
      "    \"serie_id\": 2,\n",
      "    \"title\": \"Money Heist\",\n",
      "    \"author\": \"Álex Pina\",\n",
      "    \"genre\": \"Crime, Drama\"\n",
      "  },\n",
      "  {\n",
      "    \"serie_id\": 3,\n",
      "    \"title\": \"The Crown\",\n",
      "    \"author\": \"Peter Morgan\",\n",
      "    \"genre\": \"Historical Drama\"\n",
      "  },\n",
      "  {\n",
      "    \"serie_id\": 4,\n",
      "    \"title\": \"Narcos\",\n",
      "    \"author\": \"Chris Brancato, Carlo Bernard, Doug Miro\",\n",
      "    \"genre\": \"Crime, Drama\"\n",
      "  }\n",
      "]\n"
     ]
    }
   ],
   "source": [
    "prompt = f\"\"\"\n",
    "Generate a list of four Netflix series titles by considering their authors and genres.\n",
    "Provide them in a file JSON format with the following keys:\n",
    "serie_id, title, author, genre.\n",
    "\"\"\"\n",
    "\n",
    "response = get_completion(prompt)\n",
    "\n",
    "print(f\"{ttc.GREEN}---- prompt ----{ttc.RESET}\")\n",
    "print(prompt)\n",
    "\n",
    "print(f\"{ttc.GREEN}---- response ----{ttc.RESET}\")\n",
    "print(response)"
   ]
  },
  {
   "cell_type": "markdown",
   "metadata": {},
   "source": [
    "#### You can use this text as a python dictionary. "
   ]
  },
  {
   "cell_type": "code",
   "execution_count": 5,
   "metadata": {},
   "outputs": [
    {
     "data": {
      "text/plain": [
       "[{'serie_id': 1,\n",
       "  'title': 'Stranger Things',\n",
       "  'author': 'The Duffer Brothers',\n",
       "  'genre': 'Science Fiction, Horror'},\n",
       " {'serie_id': 2,\n",
       "  'title': 'Money Heist',\n",
       "  'author': 'Álex Pina',\n",
       "  'genre': 'Crime, Drama'},\n",
       " {'serie_id': 3,\n",
       "  'title': 'The Crown',\n",
       "  'author': 'Peter Morgan',\n",
       "  'genre': 'Historical Drama'},\n",
       " {'serie_id': 4,\n",
       "  'title': 'Narcos',\n",
       "  'author': 'Chris Brancato, Carlo Bernard, Doug Miro',\n",
       "  'genre': 'Crime, Drama'}]"
      ]
     },
     "execution_count": 5,
     "metadata": {},
     "output_type": "execute_result"
    }
   ],
   "source": [
    "import json\n",
    "d = json.loads(response)\n",
    "d"
   ]
  },
  {
   "cell_type": "markdown",
   "metadata": {},
   "source": [
    "### Tactic 3\n",
    "\n",
    "#### Ask the model to check whether conditions are satisfied\n",
    "\n",
    "If the task makes assumptions that aren't necessarily satisfied, then we can tell the model to check these assumptions first. And then if they're not satisfied, indicate this and kind of stop short of a full task completion attempt.\n",
    "\n",
    "You might also consider potential edge cases and how the model should handle them to avoid unexpected errors or result."
   ]
  },
  {
   "cell_type": "markdown",
   "metadata": {},
   "source": [
    "#### Task"
   ]
  },
  {
   "cell_type": "code",
   "execution_count": 12,
   "metadata": {},
   "outputs": [],
   "source": [
    "text_1 = f\"\"\"\n",
    "Making a cup of tea is easy! First, you need to get some\n",
    "water boiling. While that's happening,\n",
    "grab a cup and put a tea bag in it. Once the water is\n",
    "hot enough, just pour it over the tea bag.\n",
    "Let it sit for a bit so the tea can steep. After a\n",
    "few minutes, take out the tea bag. If you\n",
    "like, you can add some sugar or milk to taste.\n",
    "And that's it! You've got yourself a delicious\n",
    "cup of tea to enjoy.\n",
    "\"\"\"\n",
    "\n",
    "# -------------------------------------------------------------\n",
    "\n",
    "prompt = f\"\"\"\n",
    "You will be provided with text delimited by triple quotes.\n",
    "If it contains a sequence of instructions, create a title and\n",
    "re-write those instructions in the following format:\n",
    "\n",
    "Title\n",
    "\n",
    "Step 1 - ...\n",
    "Step 2 - …\n",
    "…\n",
    "Step N - …\n",
    "\n",
    "If the text does not contain a sequence of instructions,\n",
    "then simply write \\\"No steps provided. (🤯 unidentified!)\\\"\n",
    "\n",
    "\\\"\\\"\\\"{text_1}\\\"\\\"\\\"\n",
    "\"\"\""
   ]
  },
  {
   "cell_type": "code",
   "execution_count": 9,
   "metadata": {},
   "outputs": [
    {
     "name": "stdout",
     "output_type": "stream",
     "text": [
      "Completion for Text 1:\n",
      "\u001b[92m---- prompt ----\u001b[0m\n",
      "\n",
      "You will be provided with text delimited by triple quotes.\n",
      "If it contains a sequence of instructions, create a title and\n",
      "re-write those instructions in the following format:\n",
      "\n",
      "Title\n",
      "\n",
      "Step 1 - ...\n",
      "Step 2 - …\n",
      "…\n",
      "Step N - …\n",
      "\n",
      "If the text does not contain a sequence of instructions,\n",
      "then simply write \"No steps provided. (🤯 unidentified!)\"\n",
      "\n",
      "\"\"\"\n",
      "Making a cup of tea is easy! First, you need to get some\n",
      "water boiling. While that's happening,\n",
      "grab a cup and put a tea bag in it. Once the water is\n",
      "hot enough, just pour it over the tea bag.\n",
      "Let it sit for a bit so the tea can steep. After a\n",
      "few minutes, take out the tea bag. If you\n",
      "like, you can add some sugar or milk to taste.\n",
      "And that's it! You've got yourself a delicious\n",
      "cup of tea to enjoy.\n",
      "\"\"\"\n",
      "\n",
      "\u001b[92m---- response ----\u001b[0m\n",
      "Making a Cup of Tea\n",
      "\n",
      "Step 1 - Get some water boiling.\n",
      "Step 2 - Grab a cup and put a tea bag in it.\n",
      "Step 3 - Once the water is hot enough, pour it over the tea bag.\n",
      "Step 4 - Let the tea steep for a few minutes.\n",
      "Step 5 - Take out the tea bag.\n",
      "Step 6 - Add sugar or milk to taste.\n",
      "Step 7 - Enjoy your delicious cup of tea.\n"
     ]
    }
   ],
   "source": [
    "response = get_completion(prompt)\n",
    "\n",
    "print(\"Completion for Text 1:\")\n",
    "\n",
    "print(f\"{ttc.GREEN}---- prompt ----{ttc.RESET}\")\n",
    "print(prompt)\n",
    "\n",
    "print(f\"{ttc.GREEN}---- response ----{ttc.RESET}\")\n",
    "print(response)"
   ]
  },
  {
   "cell_type": "markdown",
   "metadata": {},
   "source": [
    "#### Let's check a text that does not have explicit instructions."
   ]
  },
  {
   "cell_type": "code",
   "execution_count": 15,
   "metadata": {},
   "outputs": [
    {
     "name": "stdout",
     "output_type": "stream",
     "text": [
      "\u001b[92m---- prompt ----\u001b[0m\n",
      "\n",
      "You will be provided with text delimited by triple quotes.\n",
      "If it contains a sequence of instructions,\n",
      "re-write those instructions in the following format:\n",
      "\n",
      "Step 1 - ...\n",
      "Step 2 - …\n",
      "…\n",
      "Step N - …\n",
      "\n",
      "If the text does not contain a sequence of instructions,\n",
      "then simply write \"---No steps provided.(🤯 unidentified!)--\"\n",
      "\n",
      "\"\"\"\n",
      "The sun is shining brightly today, and the birds are\n",
      "singing. It's a beautiful day to go for a\n",
      "walk in the park. The flowers are blooming, and the\n",
      "trees are swaying gently in the breeze. People\n",
      "are out and about, enjoying the lovely weather.\n",
      "Some are having picnics, while others are playing\n",
      "games or simply relaxing on the grass. It's a\n",
      "perfect day to spend time outdoors and appreciate the\n",
      "beauty of nature.\n",
      "\"\"\"\n",
      "\n",
      "\u001b[92m---- response ----\u001b[0m\n",
      "---No steps provided.(🤯 unidentified!)--\n"
     ]
    }
   ],
   "source": [
    "text_2 = f\"\"\"\n",
    "The sun is shining brightly today, and the birds are\n",
    "singing. It's a beautiful day to go for a\n",
    "walk in the park. The flowers are blooming, and the\n",
    "trees are swaying gently in the breeze. People\n",
    "are out and about, enjoying the lovely weather.\n",
    "Some are having picnics, while others are playing\n",
    "games or simply relaxing on the grass. It's a\n",
    "perfect day to spend time outdoors and appreciate the\n",
    "beauty of nature.\n",
    "\"\"\"\n",
    "prompt = f\"\"\"\n",
    "You will be provided with text delimited by triple quotes.\n",
    "If it contains a sequence of instructions,\n",
    "re-write those instructions in the following format:\n",
    "\n",
    "Step 1 - ...\n",
    "Step 2 - …\n",
    "…\n",
    "Step N - …\n",
    "\n",
    "If the text does not contain a sequence of instructions,\n",
    "then simply write \\\"---No steps provided.(🤯 unidentified!)--\\\"\n",
    "\n",
    "\\\"\\\"\\\"{text_2}\\\"\\\"\\\"\n",
    "\"\"\"\n",
    "\n",
    "# ------------------------------------------------------\n",
    "\n",
    "response = get_completion(prompt)\n",
    "\n",
    "print(f\"{ttc.GREEN}---- prompt ----{ttc.RESET}\")\n",
    "print(prompt)\n",
    "\n",
    "print(f\"{ttc.GREEN}---- response ----{ttc.RESET}\")\n",
    "print(response)"
   ]
  },
  {
   "cell_type": "markdown",
   "metadata": {},
   "source": [
    "### 1.4 Tactic 4"
   ]
  },
  {
   "cell_type": "markdown",
   "metadata": {},
   "source": [
    "#### \"Few-shot\" prompting"
   ]
  },
  {
   "cell_type": "code",
   "execution_count": 21,
   "metadata": {},
   "outputs": [
    {
     "name": "stdout",
     "output_type": "stream",
     "text": [
      "<grandparent>: Quantum physics is like a big puzzle! It is a way scientists study very, very tiny particles that make up everything in the world. They can do really cool things, like be in two places at once or act differently when we watch them. It's like magic, but science!\n"
     ]
    }
   ],
   "source": [
    "teach_me_about = \"quantum physics\"\n",
    "\n",
    "target_audience = \"child\"\n",
    "\n",
    "prompt = f\"\"\"\n",
    "Your task is to answer consistently and simply for a {target_audience}.\n",
    "\n",
    "<child>: Teach me about patience.\n",
    "\n",
    "<grandparent>: The river that carves the deepest valley flows from a modest spring; the\n",
    "grandest symphony originates from a single note; the most intricate tapestry begins with a solitary thread.\n",
    "\n",
    "<child>: Teach me about {teach_me_about}.\n",
    "\"\"\"\n",
    "response = get_completion(prompt, temperature=1)\n",
    "\n",
    "print(response)"
   ]
  },
  {
   "cell_type": "markdown",
   "metadata": {},
   "source": []
  }
 ],
 "metadata": {
  "kernelspec": {
   "display_name": "env",
   "language": "python",
   "name": "python3"
  },
  "language_info": {
   "codemirror_mode": {
    "name": "ipython",
    "version": 3
   },
   "file_extension": ".py",
   "mimetype": "text/x-python",
   "name": "python",
   "nbconvert_exporter": "python",
   "pygments_lexer": "ipython3",
   "version": "3.10.6"
  }
 },
 "nbformat": 4,
 "nbformat_minor": 2
}
