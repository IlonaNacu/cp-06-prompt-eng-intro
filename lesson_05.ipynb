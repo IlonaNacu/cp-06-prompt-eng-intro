{
 "cells": [
  {
   "cell_type": "markdown",
   "metadata": {},
   "source": [
    "# Iterative Prompt Development\n",
    "\n",
    "In this lesson, you'll iteratively analyze and refine your prompts to generate marketing copy from a product fact sheet."
   ]
  },
  {
   "cell_type": "markdown",
   "metadata": {},
   "source": [
    "## Setup"
   ]
  },
  {
   "cell_type": "code",
   "execution_count": 2,
   "metadata": {},
   "outputs": [
    {
     "name": "stdout",
     "output_type": "stream",
     "text": [
      "sk-Yuu6ZbvcrmJ6aYp5IUQiT3BlbkFJMcylU\n",
      "First LLM API example\n",
      "✅ OpenAI Key loaded (sk-Yuu6ZbvcrmJ6aYp5IUQiT3BlbkFJMcylU...)\n"
     ]
    }
   ],
   "source": [
    "from util import local_settings\n",
    "from env_colors import TerminalTextColor as ttc\n",
    "from openai import OpenAI\n",
    "\n",
    "print(\"First LLM API example\")\n",
    "print(f\"✅ OpenAI Key loaded ({local_settings.OPENAI_API_KEY[0:-15]}...)\")\n",
    "\n",
    "client = OpenAI(api_key=local_settings.OPENAI_API_KEY)\n",
    "\n",
    "def get_completion(prompt, model=\"gpt-3.5-turbo\", temperature=0, messages=None):\n",
    "    if not messages:\n",
    "        messages = [{\"role\": \"user\", \"content\": prompt}]\n",
    "\n",
    "    completion = client.chat.completions.create(\n",
    "        model=model,\n",
    "        messages=messages,\n",
    "        temperature=temperature,\n",
    "    )\n",
    "\n",
    "    return completion.choices[0].message.content"
   ]
  },
  {
   "cell_type": "markdown",
   "metadata": {},
   "source": [
    "## Generate a marketing product description from a product fact sheet"
   ]
  },
  {
   "cell_type": "markdown",
   "metadata": {},
   "source": [
    "### Fact Sheet - Chair SWC"
   ]
  },
  {
   "cell_type": "code",
   "execution_count": 3,
   "metadata": {},
   "outputs": [],
   "source": [
    "fact_sheet_chair = \"\"\"\n",
    "OVERVIEW\n",
    "- Part of a beautiful family of mid-century inspired office furniture,\n",
    "including filing cabinets, desks, bookcases, meeting tables, and more.\n",
    "- Several options of shell color and base finishes.\n",
    "- Available with plastic back and front upholstery (SWC-100)\n",
    "or full upholstery (SWC-110) in 10 fabric and 6 leather options.\n",
    "- Base finish options are: stainless steel, matte black,\n",
    "gloss white, or chrome.\n",
    "- Chair is available with or without armrests.\n",
    "- Suitable for home or business settings.\n",
    "- Qualified for contract use.\n",
    "\n",
    "CONSTRUCTION\n",
    "- 5-wheel plastic coated aluminum base.\n",
    "- Pneumatic chair adjust for easy raise/lower action.\n",
    "\n",
    "DIMENSIONS\n",
    "- WIDTH 53 CM | 20.87”\n",
    "- DEPTH 51 CM | 20.08”\n",
    "- HEIGHT 80 CM | 31.50”\n",
    "- SEAT HEIGHT 44 CM | 17.32”\n",
    "- SEAT DEPTH 41 CM | 16.14”\n",
    "\n",
    "OPTIONS\n",
    "- Soft or hard-floor caster options.\n",
    "- Two choices of seat foam densities:\n",
    " medium (1.8 lb/ft3) or high (2.8 lb/ft3)\n",
    "- Armless or 8 position PU armrests\n",
    "\n",
    "MATERIALS\n",
    "SHELL BASE GLIDER\n",
    "- Cast Aluminum with modified nylon PA6/PA66 coating.\n",
    "- Shell thickness: 10 mm.\n",
    "SEAT\n",
    "- HD36 foam\n",
    "\n",
    "COUNTRY OF ORIGIN\n",
    "- Italy\n",
    "\"\"\""
   ]
  },
  {
   "cell_type": "markdown",
   "metadata": {},
   "source": [
    "### Prompt 1"
   ]
  },
  {
   "cell_type": "code",
   "execution_count": 4,
   "metadata": {},
   "outputs": [
    {
     "name": "stdout",
     "output_type": "stream",
     "text": [
      "Introducing our stunning mid-century inspired office chair, the SWC-100. This chair is part of a beautiful family of office furniture that includes filing cabinets, desks, bookcases, meeting tables, and more. With its sleek design and multiple customization options, it is the perfect addition to any home or business setting.\n",
      "\n",
      "The SWC-100 comes in several options of shell color and base finishes, allowing you to choose the perfect combination to match your style. You can opt for plastic back and front upholstery or go for the luxurious full upholstery in a choice of 10 fabric and 6 leather options. The base finish options include stainless steel, matte black, gloss white, or chrome.\n",
      "\n",
      "This chair is available with or without armrests, giving you the flexibility to choose the configuration that suits your needs. It is also designed for easy raise/lower action with its pneumatic chair adjust feature.\n",
      "\n",
      "With its 5-wheel plastic coated aluminum base, the SWC-100 offers stability and mobility. You can choose between soft or hard-floor caster options to ensure smooth movement on any surface. The seat is made with high-quality HD36 foam, providing optimal comfort and support.\n",
      "\n",
      "The dimensions of the SWC-100 are as follows: width 53 cm (20.87\"), depth 51 cm (20.08\"), height 80 cm (31.50\"), seat height 44 cm (17.32\"), and seat depth 41 cm (16.14\").\n",
      "\n",
      "We understand that everyone has different preferences, which is why we offer additional options for customization. You can choose between two seat foam densities: medium (1.8 lb/ft3) or high (2.8 lb/ft3). Additionally, you have the choice of armless or 8 position PU armrests.\n",
      "\n",
      "Rest assured that the SWC-100 is built to last. The shell base glider is made of cast aluminum with a modified nylon PA6/PA66 coating, ensuring durability and stability. The shell thickness is 10 mm, providing a sturdy foundation for the chair. \n",
      "\n",
      "Finally, the SWC-100 is proudly made in Italy, known for its exceptional craftsmanship and attention to detail.\n",
      "\n",
      "Upgrade your office space with the SWC-100 office chair and experience the perfect blend of style, comfort, and functionality.\n"
     ]
    }
   ],
   "source": [
    "prompt = f\"\"\"\n",
    "Your task is to help a marketing team create a\n",
    "description for a retail website of a product based\n",
    "on a technical fact sheet.\n",
    "\n",
    "Write a product description based on the information\n",
    "provided in the technical specifications delimited by\n",
    "triple backticks.\n",
    "\n",
    "Technical specifications: ```{fact_sheet_chair}```\n",
    "\"\"\"\n",
    "response = get_completion(prompt)\n",
    "print(response)"
   ]
  },
  {
   "cell_type": "markdown",
   "metadata": {},
   "source": [
    "### 🔴 <font color=\"Red\"> Issue 1: The text is too long</font>\n",
    "\n",
    "\n",
    "👉 Limit the number of words/sentences/characters.\n",
    "\n",
    "For example:\n",
    "- \"Use at most 50 words\"\n",
    "- \"Use at most 3 sentences\"\n",
    "- \"Use at most 280 characters\""
   ]
  },
  {
   "cell_type": "markdown",
   "metadata": {},
   "source": [
    "### Prompt 2 - Limit the #words"
   ]
  },
  {
   "cell_type": "code",
   "execution_count": 5,
   "metadata": {},
   "outputs": [
    {
     "name": "stdout",
     "output_type": "stream",
     "text": [
      "Introducing our mid-century inspired office chair, part of a beautiful furniture collection. With various color and finish options, choose between plastic or full upholstery in fabric or leather. The chair features a sturdy base, adjustable height, and is suitable for both home and business settings. Made in Italy.\n",
      "------------end------------\n",
      "Characters: 316\n",
      "Words: 48\n"
     ]
    }
   ],
   "source": [
    "prompt = f\"\"\"\n",
    "Your task is to help a marketing team create a\n",
    "description for a retail website of a product based\n",
    "on a technical fact sheet.\n",
    "\n",
    "Write a product description based on the information\n",
    "provided in the technical specifications delimited by\n",
    "triple backticks.\n",
    "\n",
    "Use at most 50 words.\n",
    "\n",
    "Technical specifications: ```{fact_sheet_chair}```\n",
    "\"\"\"\n",
    "response = get_completion(prompt)\n",
    "print(response)\n",
    "print(f\"------------end------------\\nCharacters: {len(response)}\")\n",
    "print(f\"Words: {len(response.split(' '))}\")"
   ]
  },
  {
   "cell_type": "markdown",
   "metadata": {},
   "source": [
    "###  🔴 <font color=\"Red\"> Issue 2. Text focuses on the wrong details</font>\n",
    "- Ask it to focus on the aspects that are relevant to the intended audience.\n",
    "\n",
    "\n",
    "```text\n",
    "The description is intended for furniture retailers,\n",
    "so should be technical in nature and focus on the\n",
    "materials the product is constructed from.\n",
    "```"
   ]
  },
  {
   "cell_type": "code",
   "execution_count": 6,
   "metadata": {},
   "outputs": [
    {
     "name": "stdout",
     "output_type": "stream",
     "text": [
      "Introducing our mid-century inspired office chair, perfect for both home and business settings. Constructed with a durable cast aluminum shell and a 5-wheel plastic coated aluminum base, this chair offers easy raise/lower action with its pneumatic chair adjust. Choose from a variety of shell colors, base finishes, and upholstery options. Made in Italy.\n"
     ]
    }
   ],
   "source": [
    "prompt = f\"\"\"\n",
    "Your task is to help a marketing team create a\n",
    "description for a retail website of a product based\n",
    "on a technical fact sheet.\n",
    "\n",
    "Write a product description based on the information\n",
    "provided in the technical specifications delimited by\n",
    "triple backticks.\n",
    "\n",
    "The description is intended for furniture retailers,\n",
    "so should be technical in nature and focus on the\n",
    "materials the product is constructed from.\n",
    "\n",
    "Use at most 50 words.\n",
    "\n",
    "Technical specifications: ```{fact_sheet_chair}```\n",
    "\"\"\"\n",
    "response = get_completion(prompt)\n",
    "print(response)"
   ]
  },
  {
   "cell_type": "markdown",
   "metadata": {},
   "source": [
    "#### Add the product names."
   ]
  },
  {
   "cell_type": "code",
   "execution_count": 9,
   "metadata": {},
   "outputs": [
    {
     "name": "stdout",
     "output_type": "stream",
     "text": [
      "1. Description:\n",
      "Introducing our mid-century inspired office chair, part of a beautiful furniture collection. This chair offers a range of options, including different shell colors and base finishes. Choose between plastic or full upholstery in various fabric and leather options. The chair features a 5-wheel plastic coated aluminum base and a pneumatic chair adjust for easy height adjustment. With its stylish design and durable construction, this chair is suitable for both home and business settings. Made in Italy.\n",
      "\n",
      "2. Product name and country:\n",
      "Mid-Century Office Chair - Italy\n",
      "\n",
      "Product IDs:\n",
      "- SWC-100\n",
      "- SWC-110\n"
     ]
    }
   ],
   "source": [
    "prompt = f\"\"\"\n",
    "Your task is to help a marketing team create a\n",
    "description for a retail website of a product based\n",
    "on a technical fact sheet.\n",
    "\n",
    "Write a product description based on the information\n",
    "provided in the technical specifications delimited by\n",
    "triple backticks.\n",
    "\n",
    "The description is intended for furniture retailers,\n",
    "so should be technical in nature and focus on the\n",
    "materials the product is constructed from.\n",
    "\n",
    "At the end of the description, include every 7-character\n",
    "Product ID in the technical specification.\n",
    "\n",
    "Use at most 50 words.\n",
    "\n",
    "Output:\n",
    "\n",
    "1. Description\n",
    "\n",
    "2. Product name and country\n",
    "\n",
    "Technical specifications: ```{fact_sheet_chair}```\n",
    "\"\"\"\n",
    "response = get_completion(prompt)\n",
    "print(response)"
   ]
  },
  {
   "cell_type": "markdown",
   "metadata": {},
   "source": [
    "### 🔴 <font color=\"red\"> Issue 3. Description needs a table of dimensions</font>\n",
    "\n",
    "Ask it to extract information and organize it in a table."
   ]
  },
  {
   "cell_type": "code",
   "execution_count": 16,
   "metadata": {},
   "outputs": [
    {
     "name": "stdout",
     "output_type": "stream",
     "text": [
      "<div>\n",
      "  <h2>Product Description</h2>\n",
      "  <p>\n",
      "    The SWC-100 Chair is a stunning addition to any office or home setting. Part of a beautiful family of mid-century inspired office furniture, this chair offers a sleek and modern design that is sure to impress. With options for shell color and base finishes, you can customize the chair to perfectly match your space.\n",
      "  </p>\n",
      "  <p>\n",
      "    The SWC-100 Chair is available with plastic back and front upholstery or full upholstery in a variety of fabric and leather options. The base finish options include stainless steel, matte black, gloss white, or chrome. You can also choose whether to have armrests or not, depending on your preference.\n",
      "  </p>\n",
      "  <p>\n",
      "    Constructed with a 5-wheel plastic coated aluminum base, this chair offers stability and durability. The pneumatic chair adjust allows for easy raise and lower action, ensuring optimal comfort for extended periods of sitting.\n",
      "  </p>\n",
      "  <p>\n",
      "    The SWC-100 Chair is suitable for both home and business settings, making it a versatile choice. It is also qualified for contract use, ensuring it meets the highest standards of quality and durability.\n",
      "  </p>\n",
      "  <p>\n",
      "    Made in Italy, this chair is crafted with the finest materials. The shell is made of cast aluminum with a modified nylon PA6/PA66 coating, providing strength and resilience. The seat is filled with HD36 foam, offering plush comfort and support.\n",
      "  </p>\n",
      "  <p>\n",
      "    With its sleek design, customizable options, and high-quality construction, the SWC-100 Chair is the perfect choice for any furniture retailer looking to offer their customers a stylish and comfortable seating option.\n",
      "  </p>\n",
      "  <img src=\"./img/swc-100.png\" alt=\"SWC-100 Chair\" width=\"100\">\n",
      "</div>\n",
      "\n",
      "<table>\n",
      "  <caption>Product Dimensions</caption>\n",
      "  <tr>\n",
      "    <th>Dimension</th>\n",
      "    <th>Measurement (inches)</th>\n",
      "  </tr>\n",
      "  <tr>\n",
      "    <td>Width</td>\n",
      "    <td>20.87\"</td>\n",
      "  </tr>\n",
      "  <tr>\n",
      "    <td>Depth</td>\n",
      "    <td>20.08\"</td>\n",
      "  </tr>\n",
      "  <tr>\n",
      "    <td>Height</td>\n",
      "    <td>31.50\"</td>\n",
      "  </tr>\n",
      "  <tr>\n",
      "    <td>Seat Height</td>\n",
      "    <td>17.32\"</td>\n",
      "  </tr>\n",
      "  <tr>\n",
      "    <td>Seat Depth</td>\n",
      "    <td>16.14\"</td>\n",
      "  </tr>\n",
      "</table>\n",
      "\n",
      "<p>Product IDs: SWC-100, SWC-110</p>\n"
     ]
    }
   ],
   "source": [
    "prompt = f\"\"\"\n",
    "Your task is to help a marketing team create a\n",
    "description for a retail website of a product based\n",
    "on a technical fact sheet.\n",
    "\n",
    "Write a product description based on the information\n",
    "provided in the technical specifications delimited by\n",
    "triple backticks.\n",
    "\n",
    "The description is intended for furniture retailers,\n",
    "so should be technical in nature and focus on the\n",
    "materials the product is constructed from.\n",
    "\n",
    "At the end of the description, include every 7-character\n",
    "Product ID in the technical specification.\n",
    "\n",
    "After the description, include a table that gives the\n",
    "product's dimensions. The table should have two columns.\n",
    "In the first column include the name of the dimension.\n",
    "In the second column include the measurements in inches only.\n",
    "\n",
    "Give the table the title 'Product Dimensions'.\n",
    "\n",
    "Format everything as HTML that can be used in a website.\n",
    "Place the description in a <div> element.\n",
    "\n",
    "Add an image of the chair with 100 pixels of width. The address of the image is \"./img/swc-100.png\"\n",
    "\n",
    "\n",
    "Technical specifications: ```{fact_sheet_chair}```\n",
    "\"\"\"\n",
    "\n",
    "response = get_completion(prompt)\n",
    "print(response)"
   ]
  },
  {
   "cell_type": "markdown",
   "metadata": {},
   "source": [
    "### See result in a HTML "
   ]
  },
  {
   "cell_type": "code",
   "execution_count": 17,
   "metadata": {},
   "outputs": [
    {
     "data": {
      "text/html": [
       "<div>\n",
       "  <h2>Product Description</h2>\n",
       "  <p>\n",
       "    The SWC-100 Chair is a stunning addition to any office or home setting. Part of a beautiful family of mid-century inspired office furniture, this chair offers a sleek and modern design that is sure to impress. With options for shell color and base finishes, you can customize the chair to perfectly match your space.\n",
       "  </p>\n",
       "  <p>\n",
       "    The SWC-100 Chair is available with plastic back and front upholstery or full upholstery in a variety of fabric and leather options. The base finish options include stainless steel, matte black, gloss white, or chrome. You can also choose whether to have armrests or not, depending on your preference.\n",
       "  </p>\n",
       "  <p>\n",
       "    Constructed with a 5-wheel plastic coated aluminum base, this chair offers stability and durability. The pneumatic chair adjust allows for easy raise and lower action, ensuring optimal comfort for extended periods of sitting.\n",
       "  </p>\n",
       "  <p>\n",
       "    The SWC-100 Chair is suitable for both home and business settings, making it a versatile choice. It is also qualified for contract use, ensuring it meets the highest standards of quality and durability.\n",
       "  </p>\n",
       "  <p>\n",
       "    Made in Italy, this chair is crafted with the finest materials. The shell is made of cast aluminum with a modified nylon PA6/PA66 coating, providing strength and resilience. The seat is filled with HD36 foam, offering plush comfort and support.\n",
       "  </p>\n",
       "  <p>\n",
       "    With its sleek design, customizable options, and high-quality construction, the SWC-100 Chair is the perfect choice for any furniture retailer looking to offer their customers a stylish and comfortable seating option.\n",
       "  </p>\n",
       "  <img src=\"./img/swc-100.png\" alt=\"SWC-100 Chair\" width=\"100\">\n",
       "</div>\n",
       "\n",
       "<table>\n",
       "  <caption>Product Dimensions</caption>\n",
       "  <tr>\n",
       "    <th>Dimension</th>\n",
       "    <th>Measurement (inches)</th>\n",
       "  </tr>\n",
       "  <tr>\n",
       "    <td>Width</td>\n",
       "    <td>20.87\"</td>\n",
       "  </tr>\n",
       "  <tr>\n",
       "    <td>Depth</td>\n",
       "    <td>20.08\"</td>\n",
       "  </tr>\n",
       "  <tr>\n",
       "    <td>Height</td>\n",
       "    <td>31.50\"</td>\n",
       "  </tr>\n",
       "  <tr>\n",
       "    <td>Seat Height</td>\n",
       "    <td>17.32\"</td>\n",
       "  </tr>\n",
       "  <tr>\n",
       "    <td>Seat Depth</td>\n",
       "    <td>16.14\"</td>\n",
       "  </tr>\n",
       "</table>\n",
       "\n",
       "<p>Product IDs: SWC-100, SWC-110</p>"
      ],
      "text/plain": [
       "<IPython.core.display.HTML object>"
      ]
     },
     "metadata": {},
     "output_type": "display_data"
    }
   ],
   "source": [
    "from IPython.display import display, HTML\n",
    "display(HTML(response))"
   ]
  }
 ],
 "metadata": {
  "kernelspec": {
   "display_name": "env",
   "language": "python",
   "name": "python3"
  },
  "language_info": {
   "codemirror_mode": {
    "name": "ipython",
    "version": 3
   },
   "file_extension": ".py",
   "mimetype": "text/x-python",
   "name": "python",
   "nbconvert_exporter": "python",
   "pygments_lexer": "ipython3",
   "version": "3.10.6"
  }
 },
 "nbformat": 4,
 "nbformat_minor": 2
}
